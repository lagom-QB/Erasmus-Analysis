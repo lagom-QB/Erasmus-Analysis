{
 "cells": [
  {
   "cell_type": "code",
   "execution_count": 2,
   "metadata": {},
   "outputs": [],
   "source": [
    "import pandas as pd"
   ]
  },
  {
   "cell_type": "code",
   "execution_count": 3,
   "metadata": {},
   "outputs": [],
   "source": [
    "data = pd.read_csv('data/2021.05.11 KA3 mobilities eligible finalised started in 2014-2019.csv',sep=';')"
   ]
  },
  {
   "cell_type": "code",
   "execution_count": 4,
   "metadata": {},
   "outputs": [
    {
     "data": {
      "text/html": [
       "<div>\n",
       "<style scoped>\n",
       "    .dataframe tbody tr th:only-of-type {\n",
       "        vertical-align: middle;\n",
       "    }\n",
       "\n",
       "    .dataframe tbody tr th {\n",
       "        vertical-align: top;\n",
       "    }\n",
       "\n",
       "    .dataframe thead th {\n",
       "        text-align: right;\n",
       "    }\n",
       "</style>\n",
       "<table border=\"1\" class=\"dataframe\">\n",
       "  <thead>\n",
       "    <tr style=\"text-align: right;\">\n",
       "      <th></th>\n",
       "      <th>Field of Education</th>\n",
       "      <th>Participant Nationality</th>\n",
       "      <th>Education Level</th>\n",
       "      <th>Participant Gender</th>\n",
       "      <th>Participant Age</th>\n",
       "      <th>Sending Country Code</th>\n",
       "      <th>Sending City</th>\n",
       "      <th>Receiving Country Code</th>\n",
       "      <th>Receiving City</th>\n",
       "      <th>Participants</th>\n",
       "    </tr>\n",
       "  </thead>\n",
       "  <tbody>\n",
       "    <tr>\n",
       "      <th>0</th>\n",
       "      <td>? Unknown ?</td>\n",
       "      <td>AT</td>\n",
       "      <td>??? - ? Unknown ?</td>\n",
       "      <td>Female</td>\n",
       "      <td>13</td>\n",
       "      <td>AT</td>\n",
       "      <td>Dornbirn</td>\n",
       "      <td>AT</td>\n",
       "      <td>Dornbirn</td>\n",
       "      <td>2</td>\n",
       "    </tr>\n",
       "    <tr>\n",
       "      <th>1</th>\n",
       "      <td>? Unknown ?</td>\n",
       "      <td>AT</td>\n",
       "      <td>??? - ? Unknown ?</td>\n",
       "      <td>Female</td>\n",
       "      <td>14</td>\n",
       "      <td>AT</td>\n",
       "      <td>Dornbirn</td>\n",
       "      <td>AT</td>\n",
       "      <td>Dornbirn</td>\n",
       "      <td>3</td>\n",
       "    </tr>\n",
       "    <tr>\n",
       "      <th>2</th>\n",
       "      <td>? Unknown ?</td>\n",
       "      <td>AT</td>\n",
       "      <td>??? - ? Unknown ?</td>\n",
       "      <td>Female</td>\n",
       "      <td>15</td>\n",
       "      <td>AT</td>\n",
       "      <td>Dornbirn</td>\n",
       "      <td>AT</td>\n",
       "      <td>Dornbirn</td>\n",
       "      <td>3</td>\n",
       "    </tr>\n",
       "    <tr>\n",
       "      <th>3</th>\n",
       "      <td>? Unknown ?</td>\n",
       "      <td>AT</td>\n",
       "      <td>??? - ? Unknown ?</td>\n",
       "      <td>Male</td>\n",
       "      <td>14</td>\n",
       "      <td>AT</td>\n",
       "      <td>Dornbirn</td>\n",
       "      <td>AT</td>\n",
       "      <td>Dornbirn</td>\n",
       "      <td>4</td>\n",
       "    </tr>\n",
       "    <tr>\n",
       "      <th>4</th>\n",
       "      <td>? Unknown ?</td>\n",
       "      <td>AT</td>\n",
       "      <td>??? - ? Unknown ?</td>\n",
       "      <td>Male</td>\n",
       "      <td>15</td>\n",
       "      <td>AT</td>\n",
       "      <td>Dornbirn</td>\n",
       "      <td>AT</td>\n",
       "      <td>Dornbirn</td>\n",
       "      <td>2</td>\n",
       "    </tr>\n",
       "  </tbody>\n",
       "</table>\n",
       "</div>"
      ],
      "text/plain": [
       "  Field of Education Participant Nationality    Education Level  \\\n",
       "0        ? Unknown ?                      AT  ??? - ? Unknown ?   \n",
       "1        ? Unknown ?                      AT  ??? - ? Unknown ?   \n",
       "2        ? Unknown ?                      AT  ??? - ? Unknown ?   \n",
       "3        ? Unknown ?                      AT  ??? - ? Unknown ?   \n",
       "4        ? Unknown ?                      AT  ??? - ? Unknown ?   \n",
       "\n",
       "  Participant Gender  Participant Age Sending Country Code Sending City  \\\n",
       "0             Female               13                   AT     Dornbirn   \n",
       "1             Female               14                   AT     Dornbirn   \n",
       "2             Female               15                   AT     Dornbirn   \n",
       "3               Male               14                   AT     Dornbirn   \n",
       "4               Male               15                   AT     Dornbirn   \n",
       "\n",
       "  Receiving Country Code Receiving City  Participants  \n",
       "0                     AT       Dornbirn             2  \n",
       "1                     AT       Dornbirn             3  \n",
       "2                     AT       Dornbirn             3  \n",
       "3                     AT       Dornbirn             4  \n",
       "4                     AT       Dornbirn             2  "
      ]
     },
     "execution_count": 4,
     "metadata": {},
     "output_type": "execute_result"
    }
   ],
   "source": [
    "chosen_cols = ['Field of Education', 'Participant Nationality', 'Education Level',\n",
    "        'Participant Gender', 'Participant Age',\n",
    "        'Sending Country Code', 'Sending City', 'Receiving Country Code',\n",
    "        'Receiving City', 'Participants']\n",
    "\n",
    "data_filtered = data[chosen_cols]\n",
    "data_filtered.head()"
   ]
  },
  {
   "cell_type": "markdown",
   "metadata": {},
   "source": [
    "## Where are the people travelling to??"
   ]
  },
  {
   "cell_type": "code",
   "execution_count": 13,
   "metadata": {},
   "outputs": [
    {
     "name": "stderr",
     "output_type": "stream",
     "text": [
      "<ipython-input-13-293b9d9ed444>:2: SettingWithCopyWarning: \n",
      "A value is trying to be set on a copy of a slice from a DataFrame.\n",
      "Try using .loc[row_indexer,col_indexer] = value instead\n",
      "\n",
      "See the caveats in the documentation: https://pandas.pydata.org/pandas-docs/stable/user_guide/indexing.html#returning-a-view-versus-a-copy\n",
      "  destination['Receiving City'] = destination['Receiving City'].str.lower()\n"
     ]
    },
    {
     "data": {
      "text/plain": [
       "Receiving Country Code  Receiving City  \n",
       "UK                      london              3241\n",
       "DE                      berlin              3149\n",
       "HU                      budapest            2272\n",
       "IE                      dublin              2201\n",
       "FR                      paris               2080\n",
       "                                            ... \n",
       "SK                      považsá bystrica       1\n",
       "DE                      münchenberndorf        1\n",
       "SK                      nová bystrica          1\n",
       "PL                      cz�sochowa             1\n",
       "LT                      anykšiai               1\n",
       "Length: 2352, dtype: int64"
      ]
     },
     "metadata": {},
     "output_type": "display_data"
    },
    {
     "data": {
      "text/plain": [
       "Index(['Receiving Country Code', 'Receiving City'], dtype='object')"
      ]
     },
     "metadata": {},
     "output_type": "display_data"
    }
   ],
   "source": [
    "destination = data_filtered[['Receiving Country Code','Receiving City']]\n",
    "destination['Receiving City'] = destination['Receiving City'].str.lower()\n",
    "\n",
    "destination.value_counts().to_csv('my-idyll-post/data/destination.csv')\n",
    "display(destination.value_counts(), destination.columns)"
   ]
  },
  {
   "cell_type": "markdown",
   "metadata": {},
   "source": [
    "## Where are the people travelling from?"
   ]
  },
  {
   "cell_type": "code",
   "execution_count": 18,
   "metadata": {},
   "outputs": [
    {
     "data": {
      "text/plain": [
       "Sending Country Code  Sending City    \n",
       "DE                    Berlin              2316\n",
       "HU                    Budapest            1979\n",
       "UK                    London              1575\n",
       "IE                    Dublin              1550\n",
       "SK                    PRIEVIDZA           1505\n",
       "                                          ... \n",
       "IE                    Navan, Co Meathh       1\n",
       "                      Navan Meath            1\n",
       "DE                    Gottingen              1\n",
       "                      Gr?bingen              1\n",
       "LV                    Jurmala                1\n",
       "Length: 14638, dtype: int64"
      ]
     },
     "metadata": {},
     "output_type": "display_data"
    }
   ],
   "source": [
    "source = data_filtered[['Sending Country Code','Sending City']]\n",
    "\n",
    "display(source.value_counts())"
   ]
  },
  {
   "cell_type": "markdown",
   "metadata": {},
   "source": [
    "## What's the gender of people travelling?"
   ]
  },
  {
   "cell_type": "code",
   "execution_count": 19,
   "metadata": {},
   "outputs": [
    {
     "data": {
      "text/plain": [
       "Participant Gender\n",
       "Female                88452\n",
       "Male                  75602\n",
       "Undefined               581\n",
       "dtype: int64"
      ]
     },
     "metadata": {},
     "output_type": "display_data"
    }
   ],
   "source": [
    "gender = data_filtered[['Participant Gender']]\n",
    "\n",
    "display(gender.value_counts())"
   ]
  },
  {
   "cell_type": "code",
   "execution_count": null,
   "metadata": {},
   "outputs": [],
   "source": []
  }
 ],
 "metadata": {
  "interpreter": {
   "hash": "433af4b79259624d575ac18c4721e65062f893feb6344f99250ec62bc71b8b37"
  },
  "kernelspec": {
   "display_name": "Python 3.8.11 64-bit ('anaconda3': conda)",
   "language": "python",
   "name": "python3"
  },
  "language_info": {
   "codemirror_mode": {
    "name": "ipython",
    "version": 3
   },
   "file_extension": ".py",
   "mimetype": "text/x-python",
   "name": "python",
   "nbconvert_exporter": "python",
   "pygments_lexer": "ipython3",
   "version": "3.8.11"
  },
  "orig_nbformat": 4
 },
 "nbformat": 4,
 "nbformat_minor": 2
}
